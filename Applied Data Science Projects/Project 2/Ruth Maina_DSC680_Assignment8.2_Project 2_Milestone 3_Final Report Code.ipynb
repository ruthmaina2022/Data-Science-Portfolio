{
 "cells": [
  {
   "cell_type": "markdown",
   "id": "e29f97d6",
   "metadata": {},
   "source": [
    "### Ruth Maina\n",
    "\n",
    "#### Applied Data Science - A Comprehensive Exploration of the Obesity Epidemic\n",
    " "
   ]
  },
  {
   "cell_type": "code",
   "execution_count": 16,
   "id": "def61d27",
   "metadata": {},
   "outputs": [],
   "source": [
    "#suppress warning messages for cleaner code\n",
    "options(warn = -1)"
   ]
  },
  {
   "cell_type": "code",
   "execution_count": 4,
   "id": "a6df04bf-94a4-4e49-9bd8-1f6f80a10112",
   "metadata": {},
   "outputs": [],
   "source": [
    "## Loading the dataset\n",
    "obesityData_df <- read.csv(\"adults_over18.csv\")"
   ]
  },
  {
   "cell_type": "code",
   "execution_count": 6,
   "id": "273e9b67-803a-4ddd-ba35-e85ca32340c5",
   "metadata": {},
   "outputs": [
    {
     "data": {
      "text/html": [
       "FALSE"
      ],
      "text/latex": [
       "FALSE"
      ],
      "text/markdown": [
       "FALSE"
      ],
      "text/plain": [
       "[1] FALSE"
      ]
     },
     "metadata": {},
     "output_type": "display_data"
    }
   ],
   "source": [
    "## Check the target variable data type\n",
    "is.integer(obesityData_df$Data_Value)"
   ]
  },
  {
   "cell_type": "code",
   "execution_count": 17,
   "id": "b6ff863c-84b8-4bd3-8e74-b9a072d98059",
   "metadata": {},
   "outputs": [],
   "source": [
    "## Per above outcome need convert to int\n",
    "obesityData_df$Data_Value <- as.integer(obesityData_df$Data_Value)"
   ]
  },
  {
   "cell_type": "code",
   "execution_count": 18,
   "id": "f504c869-c317-4a1d-b1c8-8310208583b0",
   "metadata": {},
   "outputs": [
    {
     "data": {
      "text/html": [
       "TRUE"
      ],
      "text/latex": [
       "TRUE"
      ],
      "text/markdown": [
       "TRUE"
      ],
      "text/plain": [
       "[1] TRUE"
      ]
     },
     "metadata": {},
     "output_type": "display_data"
    }
   ],
   "source": [
    "## Verify converted to int\n",
    "is.integer(obesityData_df$Data_Value)"
   ]
  },
  {
   "cell_type": "code",
   "execution_count": 19,
   "id": "6e40b64c-ec95-4984-a77b-2ec3f4b209bb",
   "metadata": {},
   "outputs": [
    {
     "data": {
      "text/html": [
       "<table class=\"dataframe\">\n",
       "<caption>A psych: 1 × 13</caption>\n",
       "<thead>\n",
       "\t<tr><th></th><th scope=col>vars</th><th scope=col>n</th><th scope=col>mean</th><th scope=col>sd</th><th scope=col>median</th><th scope=col>trimmed</th><th scope=col>mad</th><th scope=col>min</th><th scope=col>max</th><th scope=col>range</th><th scope=col>skew</th><th scope=col>kurtosis</th><th scope=col>se</th></tr>\n",
       "\t<tr><th></th><th scope=col>&lt;dbl&gt;</th><th scope=col>&lt;dbl&gt;</th><th scope=col>&lt;dbl&gt;</th><th scope=col>&lt;dbl&gt;</th><th scope=col>&lt;dbl&gt;</th><th scope=col>&lt;dbl&gt;</th><th scope=col>&lt;dbl&gt;</th><th scope=col>&lt;dbl&gt;</th><th scope=col>&lt;dbl&gt;</th><th scope=col>&lt;dbl&gt;</th><th scope=col>&lt;dbl&gt;</th><th scope=col>&lt;dbl&gt;</th><th scope=col>&lt;dbl&gt;</th></tr>\n",
       "</thead>\n",
       "<tbody>\n",
       "\t<tr><th scope=row>X1</th><td>1</td><td>589</td><td>29.7674</td><td>4.053875</td><td>30</td><td>29.74207</td><td>4.4478</td><td>20</td><td>40</td><td>20</td><td>0.07770889</td><td>-0.4507718</td><td>0.167037</td></tr>\n",
       "</tbody>\n",
       "</table>\n"
      ],
      "text/latex": [
       "A psych: 1 × 13\n",
       "\\begin{tabular}{r|lllllllllllll}\n",
       "  & vars & n & mean & sd & median & trimmed & mad & min & max & range & skew & kurtosis & se\\\\\n",
       "  & <dbl> & <dbl> & <dbl> & <dbl> & <dbl> & <dbl> & <dbl> & <dbl> & <dbl> & <dbl> & <dbl> & <dbl> & <dbl>\\\\\n",
       "\\hline\n",
       "\tX1 & 1 & 589 & 29.7674 & 4.053875 & 30 & 29.74207 & 4.4478 & 20 & 40 & 20 & 0.07770889 & -0.4507718 & 0.167037\\\\\n",
       "\\end{tabular}\n"
      ],
      "text/markdown": [
       "\n",
       "A psych: 1 × 13\n",
       "\n",
       "| <!--/--> | vars &lt;dbl&gt; | n &lt;dbl&gt; | mean &lt;dbl&gt; | sd &lt;dbl&gt; | median &lt;dbl&gt; | trimmed &lt;dbl&gt; | mad &lt;dbl&gt; | min &lt;dbl&gt; | max &lt;dbl&gt; | range &lt;dbl&gt; | skew &lt;dbl&gt; | kurtosis &lt;dbl&gt; | se &lt;dbl&gt; |\n",
       "|---|---|---|---|---|---|---|---|---|---|---|---|---|---|\n",
       "| X1 | 1 | 589 | 29.7674 | 4.053875 | 30 | 29.74207 | 4.4478 | 20 | 40 | 20 | 0.07770889 | -0.4507718 | 0.167037 |\n",
       "\n"
      ],
      "text/plain": [
       "   vars n   mean    sd       median trimmed  mad    min max range skew      \n",
       "X1 1    589 29.7674 4.053875 30     29.74207 4.4478 20  40  20    0.07770889\n",
       "   kurtosis   se      \n",
       "X1 -0.4507718 0.167037"
      ]
     },
     "metadata": {},
     "output_type": "display_data"
    }
   ],
   "source": [
    "## Load library and review summary stats\n",
    "library(psych)\n",
    "describe(obesityData_df$Data_Value)"
   ]
  },
  {
   "cell_type": "code",
   "execution_count": 20,
   "id": "af84ff0c-5db4-4fc1-87e6-711b4065b83d",
   "metadata": {},
   "outputs": [
    {
     "data": {
      "text/plain": [
       "   Min. 1st Qu.  Median    Mean 3rd Qu.    Max.    NA's \n",
       "  20.00   27.00   30.00   29.77   33.00   40.00      13 "
      ]
     },
     "metadata": {},
     "output_type": "display_data"
    }
   ],
   "source": [
    "#high level view of how the data is distributed\n",
    "summary(obesityData_df$Data_Value)"
   ]
  },
  {
   "cell_type": "code",
   "execution_count": 21,
   "id": "2416d639-e525-4a6a-b2fc-b231c2b5e6da",
   "metadata": {},
   "outputs": [],
   "source": [
    "#import library needed for plotting \n",
    "library(ggplot2)"
   ]
  },
  {
   "cell_type": "code",
   "execution_count": 22,
   "id": "e564b0cb-986c-43db-a10c-09235037e9f1",
   "metadata": {},
   "outputs": [
    {
     "data": {
      "image/png": "[encoded data removed]",
      "text/plain": [
       "plot without title"
      ]
     },
     "metadata": {
      "image/png": {
       "height": 420,
       "width": 420
      }
     },
     "output_type": "display_data"
    }
   ],
   "source": [
    "#The distribution of obesity is mostly normal/symmetrical and unimodal with one clear peak in the data, without outliers or skew\n",
    "ggplot(obesityData_df, aes(x=Data_Value)) + geom_density()"
   ]
  },
  {
   "cell_type": "code",
   "execution_count": 23,
   "id": "f5237b8f-aeb4-449b-8f4b-18d0ca0e28dd",
   "metadata": {},
   "outputs": [
    {
     "data": {
      "image/png": "[encoded data removed]",
      "text/plain": [
       "Plot with title \"Obesity Percentage Histogram\""
      ]
     },
     "metadata": {
      "image/png": {
       "height": 420,
       "width": 420
      }
     },
     "output_type": "display_data"
    }
   ],
   "source": [
    "#histogram is consistent with density plot on data distribution\n",
    "hist(obesityData_df$Data_Value, main = \"Obesity Percentage Histogram\")"
   ]
  },
  {
   "cell_type": "code",
   "execution_count": 24,
   "id": "1c7ba37d-e993-415c-b937-b26f5504d322",
   "metadata": {
    "scrolled": true
   },
   "outputs": [
    {
     "data": {
      "image/png": "[encoded data removed]",
      "text/plain": [
       "plot without title"
      ]
     },
     "metadata": {
      "image/png": {
       "height": 420,
       "width": 420
      }
     },
     "output_type": "display_data"
    }
   ],
   "source": [
    "#Obesity by Year  \n",
    "ggplot(obesityData_df, aes(x=YearStart, y=Data_Value)) + geom_point() + \n",
    "ggtitle(\"Obesity Values by Year\") + xlab(\"Year\") + ylab(\"Obesity (Percentage)\")"
   ]
  },
  {
   "cell_type": "code",
   "execution_count": 36,
   "id": "76013b04",
   "metadata": {},
   "outputs": [
    {
     "data": {
      "image/png": "[encoded data removed]",
      "text/plain": [
       "plot without title"
      ]
     },
     "metadata": {
      "image/png": {
       "height": 360,
       "width": 720
      }
     },
     "output_type": "display_data"
    }
   ],
   "source": [
    "#Obesity by State \n",
    "options(repr.plot.width = 12, repr.plot.height = 6)  # Set plot size\n",
    "ggplot(obesityData_df, aes(x=LocationAbbr, y=Data_Value)) + \n",
    "  geom_point() + \n",
    "  ggtitle(\"Obesity Values by State\") + \n",
    "  xlab(\"Location/State Abbreviation\") + \n",
    "  ylab(\"Obesity (Percentage)\") + \n",
    "  theme(\n",
    "    # Title color\n",
    "    plot.title = element_text(color = \"blue\", size = 14, face = \"bold\"),\n",
    "    \n",
    "    # X-axis text color\n",
    "    axis.text.x = element_text(color = \"blue\", angle = 90, hjust = 1),\n",
    "    \n",
    "    # Y-axis text color\n",
    "    axis.text.y = element_text(color = \"blue\"),\n",
    "    \n",
    "    # X-axis label color\n",
    "    axis.title.x = element_text(color = \"blue\"),\n",
    "    \n",
    "    # Y-axis label color\n",
    "    axis.title.y = element_text(color = \"blue\")\n",
    "  )"
   ]
  },
  {
   "cell_type": "code",
   "execution_count": 25,
   "id": "3e686a0f-4b1d-44f4-ad64-2586c94775fc",
   "metadata": {},
   "outputs": [
    {
     "data": {
      "text/plain": [
       "\n",
       "Call:\n",
       "lm(formula = Data_Value ~ YearStart, data = obesityData_df)\n",
       "\n",
       "Residuals:\n",
       "    Min      1Q  Median      3Q     Max \n",
       "-9.1784 -2.4644  0.1075  2.5356  8.5356 \n",
       "\n",
       "Coefficients:\n",
       "              Estimate Std. Error t value Pr(>|t|)    \n",
       "(Intercept) -1.122e+03  9.590e+01  -11.70   <2e-16 ***\n",
       "YearStart    5.715e-01  4.757e-02   12.01   <2e-16 ***\n",
       "---\n",
       "Signif. codes:  0 '***' 0.001 '**' 0.01 '*' 0.05 '.' 0.1 ' ' 1\n",
       "\n",
       "Residual standard error: 3.635 on 587 degrees of freedom\n",
       "  (13 observations deleted due to missingness)\n",
       "Multiple R-squared:  0.1974,\tAdjusted R-squared:  0.196 \n",
       "F-statistic: 144.3 on 1 and 587 DF,  p-value: < 2.2e-16\n"
      ]
     },
     "metadata": {},
     "output_type": "display_data"
    },
    {
     "data": {
      "text/plain": [
       "\n",
       "Call:\n",
       "lm(formula = Data_Value ~ YearStart, data = obesityData_df)\n",
       "\n",
       "Coefficients:\n",
       "(Intercept)    YearStart  \n",
       " -1122.3737       0.5715  \n"
      ]
     },
     "metadata": {},
     "output_type": "display_data"
    }
   ],
   "source": [
    "#fit a linear model below using the Year variable as the predictor and Obesity as the outcome\n",
    "obesity_lm <- lm(formula = Data_Value ~ YearStart, data=obesityData_df)\n",
    "summary(obesity_lm)\n",
    "obesity_lm"
   ]
  },
  {
   "cell_type": "code",
   "execution_count": 37,
   "id": "bc3bfcb6-f621-4773-8f04-3bd3cb0e45b1",
   "metadata": {},
   "outputs": [
    {
     "data": {
      "text/html": [
       "<style>\n",
       ".dl-inline {width: auto; margin:0; padding: 0}\n",
       ".dl-inline>dt, .dl-inline>dd {float: none; width: auto; display: inline-block}\n",
       ".dl-inline>dt::after {content: \":\\0020\"; padding-right: .5ex}\n",
       ".dl-inline>dt:not(:first-of-type) {padding-left: .5ex}\n",
       "</style><dl class=dl-inline><dt>1</dt><dd>34.3218568393179</dd><dt>2</dt><dd>34.8933467580139</dd><dt>3</dt><dd>35.4648366767099</dd><dt>4</dt><dd>36.0363265954059</dd><dt>5</dt><dd>36.6078165141018</dd><dt>6</dt><dd>37.1793064327978</dd><dt>7</dt><dd>37.7507963514938</dd><dt>8</dt><dd>38.3222862701898</dd><dt>9</dt><dd>38.8937761888858</dd><dt>10</dt><dd>39.4652661075818</dd><dt>11</dt><dd>40.0367560262778</dd></dl>\n"
      ],
      "text/latex": [
       "\\begin{description*}\n",
       "\\item[1] 34.3218568393179\n",
       "\\item[2] 34.8933467580139\n",
       "\\item[3] 35.4648366767099\n",
       "\\item[4] 36.0363265954059\n",
       "\\item[5] 36.6078165141018\n",
       "\\item[6] 37.1793064327978\n",
       "\\item[7] 37.7507963514938\n",
       "\\item[8] 38.3222862701898\n",
       "\\item[9] 38.8937761888858\n",
       "\\item[10] 39.4652661075818\n",
       "\\item[11] 40.0367560262778\n",
       "\\end{description*}\n"
      ],
      "text/markdown": [
       "1\n",
       ":   34.32185683931792\n",
       ":   34.89334675801393\n",
       ":   35.46483667670994\n",
       ":   36.03632659540595\n",
       ":   36.60781651410186\n",
       ":   37.17930643279787\n",
       ":   37.75079635149388\n",
       ":   38.32228627018989\n",
       ":   38.893776188885810\n",
       ":   39.465266107581811\n",
       ":   40.0367560262778\n",
       "\n"
      ],
      "text/plain": [
       "       1        2        3        4        5        6        7        8 \n",
       "34.32186 34.89335 35.46484 36.03633 36.60782 37.17931 37.75080 38.32229 \n",
       "       9       10       11 \n",
       "38.89378 39.46527 40.03676 "
      ]
     },
     "metadata": {},
     "output_type": "display_data"
    },
    {
     "data": {
      "text/html": [
       "<table class=\"dataframe\">\n",
       "<caption>A matrix: 11 × 3 of type dbl</caption>\n",
       "<thead>\n",
       "\t<tr><th></th><th scope=col>fit</th><th scope=col>lwr</th><th scope=col>upr</th></tr>\n",
       "</thead>\n",
       "<tbody>\n",
       "\t<tr><th scope=row>1</th><td>34.32186</td><td>33.52132</td><td>35.12240</td></tr>\n",
       "\t<tr><th scope=row>2</th><td>34.89335</td><td>34.00526</td><td>35.78144</td></tr>\n",
       "\t<tr><th scope=row>3</th><td>35.46484</td><td>34.48811</td><td>36.44157</td></tr>\n",
       "\t<tr><th scope=row>4</th><td>36.03633</td><td>34.97014</td><td>37.10252</td></tr>\n",
       "\t<tr><th scope=row>5</th><td>36.60782</td><td>35.45154</td><td>37.76409</td></tr>\n",
       "\t<tr><th scope=row>6</th><td>37.17931</td><td>35.93246</td><td>38.42616</td></tr>\n",
       "\t<tr><th scope=row>7</th><td>37.75080</td><td>36.41298</td><td>39.08862</td></tr>\n",
       "\t<tr><th scope=row>8</th><td>38.32229</td><td>36.89318</td><td>39.75139</td></tr>\n",
       "\t<tr><th scope=row>9</th><td>38.89378</td><td>37.37313</td><td>40.41442</td></tr>\n",
       "\t<tr><th scope=row>10</th><td>39.46527</td><td>37.85286</td><td>41.07768</td></tr>\n",
       "\t<tr><th scope=row>11</th><td>40.03676</td><td>38.33241</td><td>41.74111</td></tr>\n",
       "</tbody>\n",
       "</table>\n"
      ],
      "text/latex": [
       "A matrix: 11 × 3 of type dbl\n",
       "\\begin{tabular}{r|lll}\n",
       "  & fit & lwr & upr\\\\\n",
       "\\hline\n",
       "\t1 & 34.32186 & 33.52132 & 35.12240\\\\\n",
       "\t2 & 34.89335 & 34.00526 & 35.78144\\\\\n",
       "\t3 & 35.46484 & 34.48811 & 36.44157\\\\\n",
       "\t4 & 36.03633 & 34.97014 & 37.10252\\\\\n",
       "\t5 & 36.60782 & 35.45154 & 37.76409\\\\\n",
       "\t6 & 37.17931 & 35.93246 & 38.42616\\\\\n",
       "\t7 & 37.75080 & 36.41298 & 39.08862\\\\\n",
       "\t8 & 38.32229 & 36.89318 & 39.75139\\\\\n",
       "\t9 & 38.89378 & 37.37313 & 40.41442\\\\\n",
       "\t10 & 39.46527 & 37.85286 & 41.07768\\\\\n",
       "\t11 & 40.03676 & 38.33241 & 41.74111\\\\\n",
       "\\end{tabular}\n"
      ],
      "text/markdown": [
       "\n",
       "A matrix: 11 × 3 of type dbl\n",
       "\n",
       "| <!--/--> | fit | lwr | upr |\n",
       "|---|---|---|---|\n",
       "| 1 | 34.32186 | 33.52132 | 35.12240 |\n",
       "| 2 | 34.89335 | 34.00526 | 35.78144 |\n",
       "| 3 | 35.46484 | 34.48811 | 36.44157 |\n",
       "| 4 | 36.03633 | 34.97014 | 37.10252 |\n",
       "| 5 | 36.60782 | 35.45154 | 37.76409 |\n",
       "| 6 | 37.17931 | 35.93246 | 38.42616 |\n",
       "| 7 | 37.75080 | 36.41298 | 39.08862 |\n",
       "| 8 | 38.32229 | 36.89318 | 39.75139 |\n",
       "| 9 | 38.89378 | 37.37313 | 40.41442 |\n",
       "| 10 | 39.46527 | 37.85286 | 41.07768 |\n",
       "| 11 | 40.03676 | 38.33241 | 41.74111 |\n",
       "\n"
      ],
      "text/plain": [
       "   fit      lwr      upr     \n",
       "1  34.32186 33.52132 35.12240\n",
       "2  34.89335 34.00526 35.78144\n",
       "3  35.46484 34.48811 36.44157\n",
       "4  36.03633 34.97014 37.10252\n",
       "5  36.60782 35.45154 37.76409\n",
       "6  37.17931 35.93246 38.42616\n",
       "7  37.75080 36.41298 39.08862\n",
       "8  38.32229 36.89318 39.75139\n",
       "9  38.89378 37.37313 40.41442\n",
       "10 39.46527 37.85286 41.07768\n",
       "11 40.03676 38.33241 41.74111"
      ]
     },
     "metadata": {},
     "output_type": "display_data"
    }
   ],
   "source": [
    "#predict obesity for the next few years\n",
    "next_ten_years <- data.frame(YearStart = c(2024,2025,2026,2027,2028,2029,2030, 2031, 2032, 2033, 2034))\n",
    "linear_model <- lm(Data_Value ~ YearStart, data=obesityData_df)\n",
    "predict(linear_model, newdata = next_ten_years)\n",
    "predict(linear_model, newdata = next_ten_years, interval = 'confidence')"
   ]
  },
  {
   "cell_type": "markdown",
   "id": "86b7f870",
   "metadata": {},
   "source": [
    "### Summary of findings (summarized better in the write up).\n",
    "\n",
    "#### • The above analysis has shed light on obesity, providing analysis of the past decade and a potential prediction of the next ten years. The obesity issue can be tackled in many ways and intervention opportunities could be explored from all angles, particularly from governing bodies and community education.\n",
    "#### •\tThe trend percentages for the last decade and future prediction indicate an increased disparity from 2011 – 2030, which would help the audience see the importance of the matter.\n",
    "#### •\tWhile the last decade/actual data shows a sharp increase, the latter decade prediction shows a levelling off, which could mean that some causative factor could be helping avoid gradual increases compared to the last decade.\n"
   ]
  }
 ],
 "metadata": {
  "kernelspec": {
   "display_name": "R",
   "language": "R",
   "name": "ir"
  },
  "language_info": {
   "codemirror_mode": "r",
   "file_extension": ".r",
   "mimetype": "text/x-r-source",
   "name": "R",
   "pygments_lexer": "r",
   "version": "4.3.2"
  }
 },
 "nbformat": 4,
 "nbformat_minor": 5
}
